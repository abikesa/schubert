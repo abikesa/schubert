{
 "cells": [
  {
   "cell_type": "markdown",
   "metadata": {},
   "source": [
    "# Anchor ⚓️ \n",
    "\n",
    "Your observation offers a fascinating glimpse into the predictable patterns of high-altitude air traffic, and there are some likely explanations for the contrails you're consistently seeing. Let’s analyze the geography and air traffic routes:\n",
    "\n",
    "---\n",
    "\n",
    "```{figure} https://www.science.org/do/10.1126/science.aay5598/full/1127588194-1280x720-1644914646830.jpg\n",
    "---\n",
    "width: 100%\n",
    "height: 100%\n",
    "---\n",
    "_[Aviation's dirty secret](https://www.science.org/content/article/aviation-s-dirty-secret-airplane-contrails-are-surprisingly-potent-cause-global-warming)_. Airplane contrails are a surprisingly potent cause of global warming. Warming effect of thin, white clouds will triple by 2050\n",
    "```\n",
    "\n",
    "### **The Orientation and Likely Route**\n",
    "1. **Baltimore's Position Relative to Flight Paths**:  \n",
    "   Baltimore sits close to some of the busiest air corridors in the U.S. Northeastern cities like New York, Boston, and Philadelphia generate a high volume of air traffic, and these planes often head toward southern or western destinations, crossing over Maryland.  \n",
    "\n",
    "2. **Southwest Trajectory**:  \n",
    "   If the contrails are consistently crossing East 33rd Street from a northeast-to-southwest direction, the planes could be originating from airports northeast of Baltimore and headed toward destinations in the southern or southwestern U.S. Some possibilities:\n",
    "   - **Origins**:  \n",
    "     Likely airports include:\n",
    "       - John F. Kennedy International (JFK) in New York.\n",
    "       - Boston Logan International (BOS).\n",
    "       - Newark Liberty International (EWR).\n",
    "       - Philadelphia International (PHL).  \n",
    "\n",
    "   - **Destinations**:  \n",
    "     Common destinations for southwest-bound flights include:\n",
    "       - Atlanta Hartsfield-Jackson (ATL), the busiest airport in the world.\n",
    "       - Miami International (MIA).\n",
    "       - Dallas/Fort Worth International (DFW).\n",
    "       - Houston Intercontinental (IAH).\n",
    "       - Charlotte Douglas International (CLT), a major hub for American Airlines.  \n",
    "\n",
    "3. **Altitude (30,000 Feet)**:  \n",
    "   Planes cruising at 30,000 feet are typically mid-journey, so they are likely passing over Baltimore after reaching their cruising altitude (from airports in the northeast) and before descending into their destination airports farther south or southwest.\n",
    "\n",
    "---\n",
    "\n",
    "### **Airways and Flight Corridors**\n",
    "Airlines and pilots follow designated airways akin to highways in the sky. These routes are determined by:\n",
    "   - **Navigation aids (VORs)**: Fixed points on the ground used for navigation.\n",
    "   - **Wind conditions**: Jet streams can make southwest-bound routes more efficient.\n",
    "   - **Air traffic control coordination**: Balancing density over busy areas like the Northeast Corridor.  \n",
    "\n",
    "One common airway in your area is **J75**, a major east-west airway that stretches from Boston through the mid-Atlantic and on toward the southern U.S. The flights you observe may be using this or similar airways. \n",
    "\n",
    "---\n",
    "\n",
    "### **Conclusion**  \n",
    "The contrails you see are likely flights originating from northeastern hubs (JFK, BOS, EWR, or PHL) heading toward major southern or southwestern destinations like ATL, CLT, DFW, or MIA. The southwest crossing pattern over East 33rd Street aligns with standard airways and traffic patterns in the region. If you’re curious to pinpoint specific flights, tools like **FlightRadar24** or **FlightAware** can provide real-time tracking and help you identify exact routes, aircraft types, and destinations."
   ]
  }
 ],
 "metadata": {
  "kernelspec": {
   "display_name": "myenv",
   "language": "python",
   "name": "python3"
  },
  "language_info": {
   "codemirror_mode": {
    "name": "ipython",
    "version": 3
   },
   "file_extension": ".py",
   "mimetype": "text/x-python",
   "name": "python",
   "nbconvert_exporter": "python",
   "pygments_lexer": "ipython3",
   "version": "3.12.4"
  },
  "widgets": {
   "application/vnd.jupyter.widget-state+json": {
    "state": {},
    "version_major": 2,
    "version_minor": 0
   }
  }
 },
 "nbformat": 4,
 "nbformat_minor": 4
}
