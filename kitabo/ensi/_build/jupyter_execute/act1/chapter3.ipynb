{
 "cells": [
  {
   "cell_type": "markdown",
   "metadata": {},
   "source": [
    "# Woo'd 🗡️❤️💰\n",
    "\n",
    "*For a deeper appreciation, listen to the referenced performance*\n",
    "\n",
    "<iframe src=\"https://www.youtube.com/embed/GP-qEGeuarA\" style=\"width:80%;height:350px;\"></iframe>\n",
    "\n",
    "```{figure} ../figures/blanche.*\n",
    "---\n",
    "width: 1\n",
    "height: 1\n",
    "---\n",
    "_A Study in Modulation and Transposition._ Key transitions include Aeolian-Phrygian as well as Mixolydian-Dorian dialogues.\n",
    "```\n",
    "\n",
    "We only retrospectively recognize that the Aeolian mode was modulated to Phrygian when a Locrian 'breath' and later 'proclaim' emerge subtly yet definitively\n",
    "\n",
    "> *Let everything that has breath praise the Lord*                            \n",
    "-- Psalm 150:6\n",
    "\n",
    "A pivotal transition explores the third inversion of an Ionian-Mixolydian interplay. This passage features a tritone cadence and a passing dominant chord in first inversion, with its leading note guiding us 'home.' In its second iteration, the passing chord is omitted, leading instead to a sense of elevation—'higher.'\n",
    "\n",
    "Towards the apotheosis, the harmonic landscape is transposed upward by three half steps. Despite the change in pitch, the original tonal architecture remains intact, underscoring the transcendental nature of the composition.\n",
    "\n",
    "It's through these modulations and transpositions that Ron Kenoy's song mirrors the spiritual ascent evoked in Psalm 150:6—praise that rises, breath by breath, towards transcendence."
   ]
  }
 ],
 "metadata": {
  "kernelspec": {
   "display_name": "myenv",
   "language": "python",
   "name": "python3"
  },
  "language_info": {
   "codemirror_mode": {
    "name": "ipython",
    "version": 3
   },
   "file_extension": ".py",
   "mimetype": "text/x-python",
   "name": "python",
   "nbconvert_exporter": "python",
   "pygments_lexer": "ipython3",
   "version": "3.12.4"
  },
  "widgets": {
   "application/vnd.jupyter.widget-state+json": {
    "state": {},
    "version_major": 2,
    "version_minor": 0
   }
  }
 },
 "nbformat": 4,
 "nbformat_minor": 4
}